{
  "nbformat": 4,
  "nbformat_minor": 0,
  "metadata": {
    "colab": {
      "provenance": [],
      "authorship_tag": "ABX9TyP8fxCUlsgD4Y+VC+ZmevFx",
      "include_colab_link": true
    },
    "kernelspec": {
      "name": "ir",
      "display_name": "R"
    },
    "language_info": {
      "name": "R"
    },
    "gpuClass": "standard"
  },
  "cells": [
    {
      "cell_type": "markdown",
      "metadata": {
        "id": "view-in-github",
        "colab_type": "text"
      },
      "source": [
        "<a href=\"https://colab.research.google.com/github/30-na/COVID-19_community_transmission_infection_prevalence/blob/main/Untitled3.ipynb\" target=\"_parent\"><img src=\"https://colab.research.google.com/assets/colab-badge.svg\" alt=\"Open In Colab\"/></a>"
      ]
    },
    {
      "cell_type": "code",
      "source": [
        "if (!require(EpiNow2)) {\n",
        "  remotes::install_github(\"epiforecasts/EpiNow2\", dependencies = TRUE)\n",
        "}else {\n",
        "  print(\"EpiNow2 is allready installed\")\n",
        "}\n",
        "\n"
      ],
      "metadata": {
        "id": "AEwPb2XA5foD",
        "colab": {
          "base_uri": "https://localhost:8080/"
        },
        "outputId": "a714f6d1-262d-45ac-e772-4daec586cadd"
      },
      "execution_count": 1,
      "outputs": [
        {
          "output_type": "stream",
          "name": "stderr",
          "text": [
            "Loading required package: EpiNow2\n",
            "\n",
            "Warning message in library(package, lib.loc = lib.loc, character.only = TRUE, logical.return = TRUE, :\n",
            "“there is no package called ‘EpiNow2’”\n",
            "Downloading GitHub repo epiforecasts/EpiNow2@HEAD\n",
            "\n"
          ]
        },
        {
          "output_type": "stream",
          "name": "stdout",
          "text": [
            "vctrs        (0.6.0  -> 0.6.1    ) [CRAN]\n",
            "tibble       (3.2.0  -> 3.2.1    ) [CRAN]\n",
            "pillar       (1.8.1  -> 1.9.0    ) [CRAN]\n",
            "cli          (3.6.0  -> 3.6.1    ) [CRAN]\n",
            "ps           (1.7.2  -> 1.7.3    ) [CRAN]\n",
            "digest       (0.6.30 -> 0.6.31   ) [CRAN]\n",
            "Rcpp         (NA     -> 1.0.10   ) [CRAN]\n",
            "xfun         (0.37   -> 0.38     ) [CRAN]\n",
            "htmltools    (0.5.4  -> 0.5.5    ) [CRAN]\n",
            "jsonlite     (1.8.3  -> 1.8.4    ) [CRAN]\n",
            "R.utils      (NA     -> 2.12.2   ) [CRAN]\n",
            "R.oo         (NA     -> 1.25.0   ) [CRAN]\n",
            "R.methodsS3  (NA     -> 1.8.2    ) [CRAN]\n",
            "highr        (0.9    -> 0.10     ) [CRAN]\n",
            "stringr      (1.4.1  -> 1.5.0    ) [CRAN]\n",
            "bslib        (0.4.1  -> 0.4.2    ) [CRAN]\n",
            "lazyeval     (NA     -> 0.2.2    ) [CRAN]\n",
            "matrixStats  (NA     -> 0.63.0   ) [CRAN]\n",
            "checkmate    (NA     -> 2.1.0    ) [CRAN]\n",
            "gtable       (0.3.2  -> 0.3.3    ) [CRAN]\n",
            "RcppEigen    (NA     -> 0.3.3.9.3) [CRAN]\n",
            "RcppParallel (NA     -> 5.1.7    ) [CRAN]\n",
            "isoband      (0.2.6  -> 0.2.7    ) [CRAN]\n",
            "parallelly   (NA     -> 1.35.0   ) [CRAN]\n",
            "listenv      (NA     -> 0.9.0    ) [CRAN]\n",
            "globals      (NA     -> 0.16.2   ) [CRAN]\n",
            "formatR      (NA     -> 1.14     ) [CRAN]\n",
            "dplyr        (1.1.0  -> 1.1.1    ) [CRAN]\n",
            "pkgload      (1.3.1  -> 1.3.2    ) [CRAN]\n",
            "R.cache      (NA     -> 0.16.0   ) [CRAN]\n",
            "hunspell     (NA     -> 3.0.2    ) [CRAN]\n",
            "here         (NA     -> 1.0.1    ) [CRAN]\n",
            "webshot      (NA     -> 0.5.4    ) [CRAN]\n",
            "rex          (NA     -> 1.2.1    ) [CRAN]\n",
            "BH           (NA     -> 1.81.0-1 ) [CRAN]\n",
            "loo          (NA     -> 2.5.1    ) [CRAN]\n",
            "gridExtra    (NA     -> 2.3      ) [CRAN]\n",
            "inline       (NA     -> 0.3.19   ) [CRAN]\n",
            "StanHeaders  (NA     -> 2.21.0-7 ) [CRAN]\n",
            "future       (NA     -> 1.32.0   ) [CRAN]\n",
            "futile.op... (NA     -> 1.0.1    ) [CRAN]\n",
            "lambda.r     (NA     -> 1.2.4    ) [CRAN]\n",
            "styler       (NA     -> 1.9.1    ) [CRAN]\n",
            "spelling     (NA     -> 2.2.1    ) [CRAN]\n",
            "precommit    (NA     -> 0.3.2    ) [CRAN]\n",
            "kableExtra   (NA     -> 1.3.4    ) [CRAN]\n",
            "covr         (NA     -> 3.6.1    ) [CRAN]\n",
            "rstan        (NA     -> 2.21.8   ) [CRAN]\n",
            "truncnorm    (NA     -> 1.0-9    ) [CRAN]\n",
            "runner       (NA     -> 0.4.3    ) [CRAN]\n",
            "rstantools   (NA     -> 2.3.0    ) [CRAN]\n",
            "progressr    (NA     -> 0.13.0   ) [CRAN]\n",
            "patchwork    (NA     -> 1.1.2    ) [CRAN]\n",
            "future.apply (NA     -> 1.10.0   ) [CRAN]\n",
            "futile.lo... (NA     -> 1.4.3    ) [CRAN]\n"
          ]
        },
        {
          "output_type": "stream",
          "name": "stderr",
          "text": [
            "Installing 55 packages: vctrs, tibble, pillar, cli, ps, digest, Rcpp, xfun, htmltools, jsonlite, R.utils, R.oo, R.methodsS3, highr, stringr, bslib, lazyeval, matrixStats, checkmate, gtable, RcppEigen, RcppParallel, isoband, parallelly, listenv, globals, formatR, dplyr, pkgload, R.cache, hunspell, here, webshot, rex, BH, loo, gridExtra, inline, StanHeaders, future, futile.options, lambda.r, styler, spelling, precommit, kableExtra, covr, rstan, truncnorm, runner, rstantools, progressr, patchwork, future.apply, futile.logger\n",
            "\n",
            "Installing packages into ‘/usr/local/lib/R/site-library’\n",
            "(as ‘lib’ is unspecified)\n",
            "\n"
          ]
        },
        {
          "output_type": "stream",
          "name": "stdout",
          "text": [
            "\u001b[36m──\u001b[39m \u001b[36mR CMD build\u001b[39m \u001b[36m─────────────────────────────────────────────────────────────────\u001b[39m\n",
            "* checking for file ‘/tmp/RtmpBTLTSc/remotes84236c1b0e/epiforecasts-EpiNow2-f4b836e/DESCRIPTION’ ... OK\n",
            "* preparing ‘EpiNow2’:\n",
            "* checking DESCRIPTION meta-information ... OK\n",
            "* checking for LF line-endings in source and make files and shell scripts\n",
            "* checking for empty or unneeded directories\n",
            "* building ‘EpiNow2_1.3.4.tar.gz’\n",
            "\n"
          ]
        },
        {
          "output_type": "stream",
          "name": "stderr",
          "text": [
            "Installing package into ‘/usr/local/lib/R/site-library’\n",
            "(as ‘lib’ is unspecified)\n",
            "\n"
          ]
        }
      ]
    },
    {
      "cell_type": "code",
      "source": [
        "getwd()\n"
      ],
      "metadata": {
        "colab": {
          "base_uri": "https://localhost:8080/",
          "height": 34
        },
        "id": "bpUdt_RsDa7X",
        "outputId": "fe98f7da-46f6-4251-d285-77bb6d00352f"
      },
      "execution_count": 11,
      "outputs": [
        {
          "output_type": "display_data",
          "data": {
            "text/html": [
              "'/content'"
            ],
            "text/markdown": "'/content'",
            "text/latex": "'/content'",
            "text/plain": [
              "[1] \"/content\""
            ]
          },
          "metadata": {}
        }
      ]
    },
    {
      "cell_type": "code",
      "source": [
        "# Connect to GitHub\n",
        "repo_url <- \"https://github.com/30-na/COVID-19_community_transmission_infection_prevalence\"\n",
        "dest_dir <- \"COVID-19_community_transmission_infection_prevalence\"\n",
        "\n",
        "# Set the working directory to the \"content\" folder\n",
        "setwd(\"/content\")\n",
        "\n",
        "if (file.exists(dest_dir)) {\n",
        "  cat(\"The repository already exists. Updating with git pull...\\n\")\n",
        "  setwd(dest_dir)\n",
        "  system(\"git pull\")\n",
        "} else {\n",
        "  cat(paste0(\"The repository doesn't exist. Cloning from \", repo_url, \"...\\n\"))\n",
        "  system(paste0(\"git clone \", repo_url, \" \", dest_dir))\n",
        "  setwd(dest_dir)\n",
        "}"
      ],
      "metadata": {
        "id": "me0oooui7_xt",
        "colab": {
          "base_uri": "https://localhost:8080/"
        },
        "outputId": "a3f688a7-e440-4a2b-daf2-2225470a6e75"
      },
      "execution_count": 18,
      "outputs": [
        {
          "output_type": "stream",
          "name": "stdout",
          "text": [
            "The repository already exists. Updating with git pull...\n"
          ]
        }
      ]
    },
    {
      "cell_type": "code",
      "source": [
        "# setwd(\"/content/COVID-19_community_transmission_infection_prevalence\")\n",
        "getwd()\n"
      ],
      "metadata": {
        "colab": {
          "base_uri": "https://localhost:8080/",
          "height": 34
        },
        "id": "EBwBbzE8RNg2",
        "outputId": "2035b499-e149-4ae2-ba8a-639d7b8260d3"
      },
      "execution_count": 46,
      "outputs": [
        {
          "output_type": "display_data",
          "data": {
            "text/html": [
              "'/content/COVID-19_community_transmission_infection_prevalence'"
            ],
            "text/markdown": "'/content/COVID-19_community_transmission_infection_prevalence'",
            "text/latex": "'/content/COVID-19\\_community\\_transmission\\_infection\\_prevalence'",
            "text/plain": [
              "[1] \"/content/COVID-19_community_transmission_infection_prevalence\""
            ]
          },
          "metadata": {}
        }
      ]
    },
    {
      "cell_type": "code",
      "source": [
        "# load library\n",
        "library(dplyr)\n",
        "library(EpiNow2)\n",
        "library(data.table)"
      ],
      "metadata": {
        "id": "cgcSo5GhMoxq"
      },
      "execution_count": 19,
      "outputs": []
    },
    {
      "cell_type": "code",
      "source": [
        "# load NewCase data county level\n",
        "\n",
        "load(\"ColabData/counties.transmission.newCase.RDA\")\n",
        "head(counties.transmission.newCase)"
      ],
      "metadata": {
        "colab": {
          "base_uri": "https://localhost:8080/",
          "height": 286
        },
        "id": "JCmqXw-XGfgF",
        "outputId": "f1c9e75f-8496-460f-94e3-57fbbc0f1906"
      },
      "execution_count": 21,
      "outputs": [
        {
          "output_type": "display_data",
          "data": {
            "text/html": [
              "<table class=\"dataframe\">\n",
              "<caption>A data.table: 6 × 8</caption>\n",
              "<thead>\n",
              "\t<tr><th scope=col>state</th><th scope=col>fips_code</th><th scope=col>county_name</th><th scope=col>date</th><th scope=col>confirm</th><th scope=col>UR_code</th><th scope=col>UR_category</th><th scope=col>community_transmission_level</th></tr>\n",
              "\t<tr><th scope=col>&lt;chr&gt;</th><th scope=col>&lt;dbl&gt;</th><th scope=col>&lt;chr&gt;</th><th scope=col>&lt;date&gt;</th><th scope=col>&lt;dbl&gt;</th><th scope=col>&lt;dbl&gt;</th><th scope=col>&lt;fct&gt;</th><th scope=col>&lt;chr&gt;</th></tr>\n",
              "</thead>\n",
              "<tbody>\n",
              "\t<tr><td>AL</td><td>1005</td><td>Barbour County </td><td>2022-10-17</td><td> 0</td><td>6</td><td>Noncore    </td><td>low        </td></tr>\n",
              "\t<tr><td>AL</td><td>1041</td><td>Crenshaw County</td><td>2022-10-17</td><td> 5</td><td>6</td><td>Noncore    </td><td>moderate   </td></tr>\n",
              "\t<tr><td>AL</td><td>1059</td><td>Franklin County</td><td>2022-10-17</td><td>20</td><td>6</td><td>Noncore    </td><td>substantial</td></tr>\n",
              "\t<tr><td>AL</td><td>1061</td><td>Geneva County  </td><td>2022-10-17</td><td>13</td><td>4</td><td>Small metro</td><td>moderate   </td></tr>\n",
              "\t<tr><td>AL</td><td>1099</td><td>Monroe County  </td><td>2022-10-17</td><td> 5</td><td>6</td><td>Noncore    </td><td>moderate   </td></tr>\n",
              "\t<tr><td>AL</td><td>1119</td><td>Sumter County  </td><td>2022-10-17</td><td>11</td><td>6</td><td>Noncore    </td><td>substantial</td></tr>\n",
              "</tbody>\n",
              "</table>\n"
            ],
            "text/markdown": "\nA data.table: 6 × 8\n\n| state &lt;chr&gt; | fips_code &lt;dbl&gt; | county_name &lt;chr&gt; | date &lt;date&gt; | confirm &lt;dbl&gt; | UR_code &lt;dbl&gt; | UR_category &lt;fct&gt; | community_transmission_level &lt;chr&gt; |\n|---|---|---|---|---|---|---|---|\n| AL | 1005 | Barbour County  | 2022-10-17 |  0 | 6 | Noncore     | low         |\n| AL | 1041 | Crenshaw County | 2022-10-17 |  5 | 6 | Noncore     | moderate    |\n| AL | 1059 | Franklin County | 2022-10-17 | 20 | 6 | Noncore     | substantial |\n| AL | 1061 | Geneva County   | 2022-10-17 | 13 | 4 | Small metro | moderate    |\n| AL | 1099 | Monroe County   | 2022-10-17 |  5 | 6 | Noncore     | moderate    |\n| AL | 1119 | Sumter County   | 2022-10-17 | 11 | 6 | Noncore     | substantial |\n\n",
            "text/latex": "A data.table: 6 × 8\n\\begin{tabular}{llllllll}\n state & fips\\_code & county\\_name & date & confirm & UR\\_code & UR\\_category & community\\_transmission\\_level\\\\\n <chr> & <dbl> & <chr> & <date> & <dbl> & <dbl> & <fct> & <chr>\\\\\n\\hline\n\t AL & 1005 & Barbour County  & 2022-10-17 &  0 & 6 & Noncore     & low        \\\\\n\t AL & 1041 & Crenshaw County & 2022-10-17 &  5 & 6 & Noncore     & moderate   \\\\\n\t AL & 1059 & Franklin County & 2022-10-17 & 20 & 6 & Noncore     & substantial\\\\\n\t AL & 1061 & Geneva County   & 2022-10-17 & 13 & 4 & Small metro & moderate   \\\\\n\t AL & 1099 & Monroe County   & 2022-10-17 &  5 & 6 & Noncore     & moderate   \\\\\n\t AL & 1119 & Sumter County   & 2022-10-17 & 11 & 6 & Noncore     & substantial\\\\\n\\end{tabular}\n",
            "text/plain": [
              "  state fips_code county_name     date       confirm UR_code UR_category\n",
              "1 AL    1005      Barbour County  2022-10-17  0      6       Noncore    \n",
              "2 AL    1041      Crenshaw County 2022-10-17  5      6       Noncore    \n",
              "3 AL    1059      Franklin County 2022-10-17 20      6       Noncore    \n",
              "4 AL    1061      Geneva County   2022-10-17 13      4       Small metro\n",
              "5 AL    1099      Monroe County   2022-10-17  5      6       Noncore    \n",
              "6 AL    1119      Sumter County   2022-10-17 11      6       Noncore    \n",
              "  community_transmission_level\n",
              "1 low                         \n",
              "2 moderate                    \n",
              "3 substantial                 \n",
              "4 moderate                    \n",
              "5 moderate                    \n",
              "6 substantial                 "
            ]
          },
          "metadata": {}
        }
      ]
    },
    {
      "cell_type": "markdown",
      "source": [
        "# New Section"
      ],
      "metadata": {
        "id": "asowIjfSPOTy"
      }
    },
    {
      "cell_type": "code",
      "source": [
        "# 1. define Targets\n",
        "target.NCHS = \"Large central metro\"\n",
        "names(counties.transmission.newCase)"
      ],
      "metadata": {
        "colab": {
          "base_uri": "https://localhost:8080/",
          "height": 34
        },
        "id": "GV4RJ3aOT-Yz",
        "outputId": "7226bf45-ccd8-4c8b-c84e-77a554a9bea6"
      },
      "execution_count": 24,
      "outputs": [
        {
          "output_type": "display_data",
          "data": {
            "text/html": [
              "<style>\n",
              ".list-inline {list-style: none; margin:0; padding: 0}\n",
              ".list-inline>li {display: inline-block}\n",
              ".list-inline>li:not(:last-child)::after {content: \"\\00b7\"; padding: 0 .5ex}\n",
              "</style>\n",
              "<ol class=list-inline><li>'state'</li><li>'fips_code'</li><li>'county_name'</li><li>'date'</li><li>'confirm'</li><li>'UR_code'</li><li>'UR_category'</li><li>'community_transmission_level'</li></ol>\n"
            ],
            "text/markdown": "1. 'state'\n2. 'fips_code'\n3. 'county_name'\n4. 'date'\n5. 'confirm'\n6. 'UR_code'\n7. 'UR_category'\n8. 'community_transmission_level'\n\n\n",
            "text/latex": "\\begin{enumerate*}\n\\item 'state'\n\\item 'fips\\_code'\n\\item 'county\\_name'\n\\item 'date'\n\\item 'confirm'\n\\item 'UR\\_code'\n\\item 'UR\\_category'\n\\item 'community\\_transmission\\_level'\n\\end{enumerate*}\n",
            "text/plain": [
              "[1] \"state\"                        \"fips_code\"                   \n",
              "[3] \"county_name\"                  \"date\"                        \n",
              "[5] \"confirm\"                      \"UR_code\"                     \n",
              "[7] \"UR_category\"                  \"community_transmission_level\""
            ]
          },
          "metadata": {}
        }
      ]
    },
    {
      "cell_type": "code",
      "source": [
        "# set number of cores to use fitting the model\n",
        "options(mc.cores = 4)\n",
        "# no benefit on runtime if cores > chains which is set to 4 by default\n",
        "\n",
        "# literature distributions \n",
        "generation_time <- get_generation_time(disease = \"SARS-CoV-2\", source = \"ganyani\", fixed = TRUE)\n",
        "incubation_period <- get_incubation_period(disease = \"SARS-CoV-2\", source = \"lauer\", fixed = TRUE)\n",
        "\n",
        "# define reporting delay as lognormal with mean of 4 days and sd of 1 day in absence of\n",
        "# evidence. If data on onset -> report then can use estimate_delay to estimate the delay\n",
        "reporting_delay <- list(mean = convert_to_logmean(4, 1),\n",
        "                        mean_sd = 0.1,\n",
        "                        sd = convert_to_logsd(4, 1),\n",
        "                        sd_sd = 0.1,\n",
        "                        max = 15)"
      ],
      "metadata": {
        "id": "2YeVmX3qcGeV"
      },
      "execution_count": 25,
      "outputs": []
    },
    {
      "cell_type": "code",
      "source": [
        "# filter list of Large Centeral Metro Counties\n",
        "LCM_counties = counties.transmission.newCase %>%\n",
        "filter(\n",
        "UR_category == target.NCHS\n",
        ") %>%\n",
        "  mutate(\n",
        "  state_fips = paste(state, fips_code, county_name, sep=\"_\")\n",
        "  )\n",
        "  names(LCM_counties)"
      ],
      "metadata": {
        "colab": {
          "base_uri": "https://localhost:8080/",
          "height": 34
        },
        "id": "REb8xuIGKXeq",
        "outputId": "999e49e2-ef78-42b2-eb0c-df5ed2321962"
      },
      "execution_count": 26,
      "outputs": [
        {
          "output_type": "display_data",
          "data": {
            "text/html": [
              "<style>\n",
              ".list-inline {list-style: none; margin:0; padding: 0}\n",
              ".list-inline>li {display: inline-block}\n",
              ".list-inline>li:not(:last-child)::after {content: \"\\00b7\"; padding: 0 .5ex}\n",
              "</style>\n",
              "<ol class=list-inline><li>'state'</li><li>'fips_code'</li><li>'county_name'</li><li>'date'</li><li>'confirm'</li><li>'UR_code'</li><li>'UR_category'</li><li>'community_transmission_level'</li><li>'state_fips'</li></ol>\n"
            ],
            "text/markdown": "1. 'state'\n2. 'fips_code'\n3. 'county_name'\n4. 'date'\n5. 'confirm'\n6. 'UR_code'\n7. 'UR_category'\n8. 'community_transmission_level'\n9. 'state_fips'\n\n\n",
            "text/latex": "\\begin{enumerate*}\n\\item 'state'\n\\item 'fips\\_code'\n\\item 'county\\_name'\n\\item 'date'\n\\item 'confirm'\n\\item 'UR\\_code'\n\\item 'UR\\_category'\n\\item 'community\\_transmission\\_level'\n\\item 'state\\_fips'\n\\end{enumerate*}\n",
            "text/plain": [
              "[1] \"state\"                        \"fips_code\"                   \n",
              "[3] \"county_name\"                  \"date\"                        \n",
              "[5] \"confirm\"                      \"UR_code\"                     \n",
              "[7] \"UR_category\"                  \"community_transmission_level\"\n",
              "[9] \"state_fips\"                  "
            ]
          },
          "metadata": {}
        }
      ]
    },
    {
      "cell_type": "code",
      "source": [
        "# list of target counties \n",
        "target.counties.list = unique(LCM_counties$state_fips)\n",
        "\n",
        "# initial dataframe\n",
        "#original.columns = c(\"date\", \"rt.mean\", \"county\")\n",
        "#LCM_counties_rt = data.frame(matrix(nrow = 0, ncol = length(original.columns)))   \n",
        "#colnames(LCM_counties_rt) = LCM_counties_rt\n",
        "\n",
        "\n",
        "for(i in 1:length(target.counties.list)){\n",
        "  # set target county\n",
        "  target.county = target.counties.list[i]\n",
        "  \n",
        "  # set confirm case for the target county\n",
        "  reported_cases = LCM_counties %>%\n",
        "  dplyr::filter(\n",
        "    state_fips == target.county\n",
        "  ) %>%\n",
        "  dplyr::select(\n",
        "    date,\n",
        "    confirm\n",
        "  )%>%\n",
        "  dplyr::arrange(\n",
        "    date\n",
        "    )\n",
        "    \n",
        "  # run epinow\n",
        "out <- epinow(reported_cases = reported_cases, \n",
        "              generation_time = generation_time,\n",
        "              delays = delay_opts(incubation_period, reporting_delay),\n",
        "              rt = rt_opts(prior = list(mean = 1.5, sd = 0.5)),\n",
        "              # here we define the quality of the gaussian process approximation\n",
        "              # if the fit to data appears poor try increasing basis_prop and\n",
        "              # potentially the boundary_scale (see ?gp_opts for details)\n",
        "              # though this will likely increase runtimes.\n",
        "              gp = gp_opts(basis_prop = 0.2),\n",
        "              # in some instances stan chains can get stuck when estimating in \n",
        "              # these instances consider using the future fitting mode by passing \n",
        "              # `future = TRUE, max_execution_time = 60 * 30` to stan_opts and calling \n",
        "              # `future::plan(\"multiprocess\")` prior to running epinow this will time out\n",
        "              # chains after 30 minutes but still return results from completed chains\n",
        "              stan = stan_opts(),\n",
        "              horizon = 14, \n",
        "              #target_folder = \"results\",\n",
        "              #logs = file.path(\"logs\", Sys.Date()),\n",
        "              #return_output = TRUE, \n",
        "              verbose = TRUE)\n",
        "\n",
        "# make a data frame\n",
        "r = (out[[\"estimates\"]][[\"summarised\"]]$variable) == \"R\"\n",
        "rt.mean = out[[\"estimates\"]][[\"summarised\"]]$mean[r]\n",
        "date = out[[\"estimates\"]][[\"summarised\"]]$date[r]\n",
        "\n",
        "rt.df = data.frame(\n",
        "  date = as.Date(date, \"%Y-%m-%d\"),\n",
        "  rt.mean = rt.mean,\n",
        "  county = target.counties.list[i]\n",
        ")\n",
        "\n",
        "# merged all data\n",
        "#LCM_counties_rt = rbind(\n",
        "#    LCM_counties_rt,\n",
        "#    rt.df\n",
        "#  )\n",
        "\n",
        "# save file to github\n",
        "save(rt.df, file = paste0(\"./COVID-19_community_transmission_infection_prevalence/ColabData/\", target.counties.list[i], \"_rt.df.Rda\"))\n",
        "# push file to github\n",
        "system(paste0(\"cd \", dest_dir, \" && git add . && git commit -m 'Add rt.df for \", target.counties.list[i], \"' && git push\"))\n",
        "}\n"
      ],
      "metadata": {
        "colab": {
          "base_uri": "https://localhost:8080/",
          "height": 651
        },
        "id": "RUcm1zYaXSUD",
        "outputId": "84554e1b-1218-48fd-c0c8-9ab7c299c809"
      },
      "execution_count": null,
      "outputs": [
        {
          "metadata": {
            "tags": null
          },
          "name": "stderr",
          "output_type": "stream",
          "text": [
            "Logging threshold set at INFO for the EpiNow2 logger\n",
            "\n",
            "Writing EpiNow2 logs to the console and: /tmp/Rtmp31Cj0J/regional-epinow/2022-10-17.log\n",
            "\n",
            "Logging threshold set at INFO for the EpiNow2.epinow logger\n",
            "\n",
            "Writing EpiNow2.epinow logs to the console and: /tmp/Rtmp31Cj0J/epinow/2022-10-17.log\n",
            "\n"
          ]
        },
        {
          "output_type": "stream",
          "name": "stdout",
          "text": [
            "DEBUG [2023-03-23 15:19:15] epinow: Running in exact mode for 2000 samples (across 4 chains each with a warm up of 250 iterations each) and 460 time steps of which 14 are a forecast\n",
            "WARN [2023-03-23 15:56:41] epinow: There were 2000 divergent transitions after warmup. See\n",
            "https://mc-stan.org/misc/warnings.html#divergent-transitions-after-warmup\n",
            "to find out why this is a problem and how to eliminate them. - \n",
            "WARN [2023-03-23 15:56:41] epinow: Examine the pairs() plot to diagnose sampling problems\n",
            " - \n",
            "WARN [2023-03-23 15:56:46] epinow: The largest R-hat is 3.4, indicating chains have not mixed.\n",
            "Running the chains for more iterations may help. See\n",
            "https://mc-stan.org/misc/warnings.html#r-hat - \n",
            "WARN [2023-03-23 15:56:59] epinow: Bulk Effective Samples Size (ESS) is too low, indicating posterior means and medians may be unreliable.\n",
            "Running the chains for more iterations may help. See\n",
            "https://mc-stan.org/misc/warnings.html#bulk-ess - \n",
            "WARN [2023-03-23 15:57:13] epinow: Tail Effective Samples Size (ESS) is too low, indicating posterior variances and tail quantiles may be unreliable.\n",
            "Running the chains for more iterations may help. See\n",
            "https://mc-stan.org/misc/warnings.html#tail-ess - \n"
          ]
        },
        {
          "output_type": "error",
          "ename": "ERROR",
          "evalue": "ignored",
          "traceback": [
            "Error in pate(target.counties.list[i], \"rt.df.csv\", sep = \"_\"): could not find function \"pate\"\nTraceback:\n",
            "1. write.csv(rt.df, file = pate(target.counties.list[i], \"rt.df.csv\", \n .     sep = \"_\"))",
            "2. eval.parent(Call)",
            "3. eval(expr, p)",
            "4. eval(expr, p)",
            "5. utils::write.table(rt.df, file = pate(target.counties.list[i], \n .     \"rt.df.csv\", sep = \"_\"), col.names = NA, sep = \",\", dec = \".\", \n .     qmethod = \"double\")"
          ]
        }
      ]
    },
    {
      "cell_type": "code",
      "source": [
        "\n",
        "test = data.frame(col1=1, col2=2, nrow=3)\n",
        "save(test, file = paste0(\"ColabData/\", \"test.Rda\"))\n",
        "\n",
        "# save file to github\n",
        "#save(rt.df, file = paste0(\"./COVID-19_community_transmission_infection_prevalence/\", target.counties.list[i], \"_rt.df.Rda\"))\n",
        "# push file to github\n",
        "system(paste0(\"cd \", dest_dir, \" && git add . && git commit -m 'Add rt.df for test\", \"' && git push\"))\n",
        "system(paste0(\"cd \", dest_dir, \" && git status\"))\n",
        "getwd()"
      ],
      "metadata": {
        "id": "NcAGe9_lZo07",
        "colab": {
          "base_uri": "https://localhost:8080/",
          "height": 34
        },
        "outputId": "eda3bf0d-2b61-4ddf-927c-0bf32ccff647"
      },
      "execution_count": 27,
      "outputs": [
        {
          "output_type": "display_data",
          "data": {
            "text/html": [
              "'/content/COVID-19_community_transmission_infection_prevalence'"
            ],
            "text/markdown": "'/content/COVID-19_community_transmission_infection_prevalence'",
            "text/latex": "'/content/COVID-19\\_community\\_transmission\\_infection\\_prevalence'",
            "text/plain": [
              "[1] \"/content/COVID-19_community_transmission_infection_prevalence\""
            ]
          },
          "metadata": {}
        }
      ]
    },
    {
      "cell_type": "code",
      "source": [
        "system(\"git config --global user.name 'sinanokhtar'\")\n",
        "system(\"git config --global user.email 'sinamokhtar@gmail.com'\")\n"
      ],
      "metadata": {
        "id": "2JFBOtstM0nc"
      },
      "execution_count": 29,
      "outputs": []
    },
    {
      "cell_type": "code",
      "source": [
        "system(\"git config --global user.name 'sinanokhtar'\")\n",
        "system(\"git config --global user.email 'sinamokhtar@gmail.com'\")\n",
        "\n",
        "# add test.rda file ColabData folder\n",
        "test = data.frame(col1=1, col2=2, nrow=3)\n",
        "save(test, file = paste0(\"ColabData/\", \"test.Rda\"))\n",
        "\n",
        "# add changes\n",
        "system(\"git add .\", echo = TRUE)\n",
        "system(\"git commit -m 'Add test.Rda'\", echo = TRUE)\n",
        "system(\"git push\", echo = TRUE)\n",
        "\n",
        "git_status <- capture.output(system(\"git status\"))\n",
        "print(git_status)\n"
      ],
      "metadata": {
        "colab": {
          "base_uri": "https://localhost:8080/",
          "height": 96
        },
        "id": "EiftHIKJNSpF",
        "outputId": "e6fce86c-7bea-4492-8cf2-91a744cb5c89"
      },
      "execution_count": 52,
      "outputs": [
        {
          "output_type": "error",
          "ename": "ERROR",
          "evalue": "ignored",
          "traceback": [
            "Error in system(\"git add .\", echo = TRUE): unused argument (echo = TRUE)\nTraceback:\n"
          ]
        }
      ]
    },
    {
      "cell_type": "code",
      "source": [
        "system(\"git pull\")\n"
      ],
      "metadata": {
        "id": "h442w9OEPu3t"
      },
      "execution_count": 45,
      "outputs": []
    },
    {
      "cell_type": "code",
      "source": [],
      "metadata": {
        "id": "8w2hy8BaW5j9"
      },
      "execution_count": null,
      "outputs": []
    },
    {
      "cell_type": "code",
      "source": [
        "getwd()"
      ],
      "metadata": {
        "colab": {
          "base_uri": "https://localhost:8080/",
          "height": 34
        },
        "id": "2gjINyBqSLtD",
        "outputId": "5e94efc3-5825-46f9-8a91-4e0f18afa739"
      },
      "execution_count": 47,
      "outputs": [
        {
          "output_type": "display_data",
          "data": {
            "text/html": [
              "'/content/COVID-19_community_transmission_infection_prevalence'"
            ],
            "text/markdown": "'/content/COVID-19_community_transmission_infection_prevalence'",
            "text/latex": "'/content/COVID-19\\_community\\_transmission\\_infection\\_prevalence'",
            "text/plain": [
              "[1] \"/content/COVID-19_community_transmission_infection_prevalence\""
            ]
          },
          "metadata": {}
        }
      ]
    },
    {
      "cell_type": "code",
      "source": [
        "# Load the google drive library\n",
        "install.packages(\"googledrive\")\n",
        "library(googledrive)\n",
        "\n",
        "# Authenticate and mount Google Drive\n",
        "drive_auth()\n",
        "drive_mount()\n"
      ],
      "metadata": {
        "colab": {
          "base_uri": "https://localhost:8080/",
          "height": 443
        },
        "id": "1jkIMzTBc28Y",
        "outputId": "901364a6-3da7-4f07-c529-2fd875dd6ff3"
      },
      "execution_count": 53,
      "outputs": [
        {
          "output_type": "stream",
          "name": "stderr",
          "text": [
            "Installing package into ‘/usr/local/lib/R/site-library’\n",
            "(as ‘lib’ is unspecified)\n",
            "\n"
          ]
        },
        {
          "output_type": "error",
          "ename": "ERROR",
          "evalue": "ignored",
          "traceback": [
            "\u001b[1m\u001b[33mError\u001b[39m in `drive_auth()`:\u001b[22m\n\u001b[1m\u001b[22m\u001b[33m!\u001b[39m Can't get Google credentials.\n\u001b[36mℹ\u001b[39m Are you running \u001b[34mgoogledrive\u001b[39m in a non-interactive session? Consider:\n\u001b[36m•\u001b[39m Call `drive_deauth()` to prevent the attempt to get credentials.\n\u001b[36m•\u001b[39m Call `drive_auth()` directly with all necessary specifics.\n\u001b[36mℹ\u001b[39m See gargle's \"Non-interactive auth\" vignette for more details:\n\u001b[36mℹ\u001b[39m \u001b[3m\u001b[34m<https://gargle.r-lib.org/articles/non-interactive-auth.html>\u001b[39m\u001b[23m\nTraceback:\n",
            "1. drive_auth()",
            "2. drive_abort(c(\"Can't get Google credentials.\", i = \"Are you running {.pkg googledrive} in a non-interactive session? \\\\\\n             Consider:\", \n .     `*` = \"Call {.fun drive_deauth} to prevent the attempt to get credentials.\", \n .     `*` = \"Call {.fun drive_auth} directly with all necessary specifics.\", \n .     i = \"See gargle's \\\"Non-interactive auth\\\" vignette for more details:\", \n .     i = \"{.url https://gargle.r-lib.org/articles/non-interactive-auth.html}\"))",
            "3. cli::cli_abort(message = message, ..., .envir = .envir)",
            "4. rlang::abort(message, ..., call = call, use_cli_format = TRUE, \n .     .frame = .frame)",
            "5. signal_abort(cnd, .file)"
          ]
        }
      ]
    },
    {
      "cell_type": "code",
      "source": [
        "library(googledrive)\n",
        "drive_auth()\n",
        "\n",
        "\n",
        "install.packages(\"googleAuthR\")\n",
        "library(googleAuthR)\n",
        "\n",
        "# Authenticate and authorize session\n",
        "gar_auth()\n",
        "\n",
        "# Load googledrive package\n",
        "library(googledrive)\n",
        "\n",
        "# Create a new file in Google Drive\n",
        "drive_create(\"example.txt\", type = \"text/plain\", content = \"Hello, world!\")\n"
      ],
      "metadata": {
        "colab": {
          "base_uri": "https://localhost:8080/",
          "height": 391
        },
        "id": "ktn5gSmmXP98",
        "outputId": "8edc345d-0124-41d2-f68f-3ec98b2b069b"
      },
      "execution_count": 55,
      "outputs": [
        {
          "output_type": "error",
          "ename": "ERROR",
          "evalue": "ignored",
          "traceback": [
            "\u001b[1m\u001b[33mError\u001b[39m in `drive_auth()`:\u001b[22m\n\u001b[1m\u001b[22m\u001b[33m!\u001b[39m Can't get Google credentials.\n\u001b[36mℹ\u001b[39m Are you running \u001b[34mgoogledrive\u001b[39m in a non-interactive session? Consider:\n\u001b[36m•\u001b[39m Call `drive_deauth()` to prevent the attempt to get credentials.\n\u001b[36m•\u001b[39m Call `drive_auth()` directly with all necessary specifics.\n\u001b[36mℹ\u001b[39m See gargle's \"Non-interactive auth\" vignette for more details:\n\u001b[36mℹ\u001b[39m \u001b[3m\u001b[34m<https://gargle.r-lib.org/articles/non-interactive-auth.html>\u001b[39m\u001b[23m\nTraceback:\n",
            "1. drive_auth()",
            "2. drive_abort(c(\"Can't get Google credentials.\", i = \"Are you running {.pkg googledrive} in a non-interactive session? \\\\\\n             Consider:\", \n .     `*` = \"Call {.fun drive_deauth} to prevent the attempt to get credentials.\", \n .     `*` = \"Call {.fun drive_auth} directly with all necessary specifics.\", \n .     i = \"See gargle's \\\"Non-interactive auth\\\" vignette for more details:\", \n .     i = \"{.url https://gargle.r-lib.org/articles/non-interactive-auth.html}\"))",
            "3. cli::cli_abort(message = message, ..., .envir = .envir)",
            "4. rlang::abort(message, ..., call = call, use_cli_format = TRUE, \n .     .frame = .frame)",
            "5. signal_abort(cnd, .file)"
          ]
        }
      ]
    },
    {
      "cell_type": "code",
      "source": [
        "# Authenticate with Google Drive\n",
        "drive_auth()"
      ],
      "metadata": {
        "colab": {
          "base_uri": "https://localhost:8080/",
          "height": 391
        },
        "id": "bKyXyk7gXu3q",
        "outputId": "9f0b5b8c-0bd5-4ed6-8c5a-4e50a3e5e200"
      },
      "execution_count": 56,
      "outputs": [
        {
          "output_type": "error",
          "ename": "ERROR",
          "evalue": "ignored",
          "traceback": [
            "\u001b[1m\u001b[33mError\u001b[39m in `drive_auth()`:\u001b[22m\n\u001b[1m\u001b[22m\u001b[33m!\u001b[39m Can't get Google credentials.\n\u001b[36mℹ\u001b[39m Are you running \u001b[34mgoogledrive\u001b[39m in a non-interactive session? Consider:\n\u001b[36m•\u001b[39m Call `drive_deauth()` to prevent the attempt to get credentials.\n\u001b[36m•\u001b[39m Call `drive_auth()` directly with all necessary specifics.\n\u001b[36mℹ\u001b[39m See gargle's \"Non-interactive auth\" vignette for more details:\n\u001b[36mℹ\u001b[39m \u001b[3m\u001b[34m<https://gargle.r-lib.org/articles/non-interactive-auth.html>\u001b[39m\u001b[23m\nTraceback:\n",
            "1. drive_auth()",
            "2. drive_abort(c(\"Can't get Google credentials.\", i = \"Are you running {.pkg googledrive} in a non-interactive session? \\\\\\n             Consider:\", \n .     `*` = \"Call {.fun drive_deauth} to prevent the attempt to get credentials.\", \n .     `*` = \"Call {.fun drive_auth} directly with all necessary specifics.\", \n .     i = \"See gargle's \\\"Non-interactive auth\\\" vignette for more details:\", \n .     i = \"{.url https://gargle.r-lib.org/articles/non-interactive-auth.html}\"))",
            "3. cli::cli_abort(message = message, ..., .envir = .envir)",
            "4. rlang::abort(message, ..., call = call, use_cli_format = TRUE, \n .     .frame = .frame)",
            "5. signal_abort(cnd, .file)"
          ]
        }
      ]
    },
    {
      "cell_type": "code",
      "source": [
        "library(googledrive)\n",
        "drive_deauth()\n",
        "drive_auth(email = \"sinamokhtar@gmail.com\")\n"
      ],
      "metadata": {
        "colab": {
          "base_uri": "https://localhost:8080/",
          "height": 391
        },
        "id": "xPlw5-HxX4af",
        "outputId": "5055da2c-a1ce-44da-afed-c651078dd3d5"
      },
      "execution_count": 57,
      "outputs": [
        {
          "output_type": "error",
          "ename": "ERROR",
          "evalue": "ignored",
          "traceback": [
            "\u001b[1m\u001b[33mError\u001b[39m in `drive_auth()`:\u001b[22m\n\u001b[1m\u001b[22m\u001b[33m!\u001b[39m Can't get Google credentials.\n\u001b[36mℹ\u001b[39m Are you running \u001b[34mgoogledrive\u001b[39m in a non-interactive session? Consider:\n\u001b[36m•\u001b[39m Call `drive_deauth()` to prevent the attempt to get credentials.\n\u001b[36m•\u001b[39m Call `drive_auth()` directly with all necessary specifics.\n\u001b[36mℹ\u001b[39m See gargle's \"Non-interactive auth\" vignette for more details:\n\u001b[36mℹ\u001b[39m \u001b[3m\u001b[34m<https://gargle.r-lib.org/articles/non-interactive-auth.html>\u001b[39m\u001b[23m\nTraceback:\n",
            "1. drive_auth(email = \"sinamokhtar@gmail.com\")",
            "2. drive_abort(c(\"Can't get Google credentials.\", i = \"Are you running {.pkg googledrive} in a non-interactive session? \\\\\\n             Consider:\", \n .     `*` = \"Call {.fun drive_deauth} to prevent the attempt to get credentials.\", \n .     `*` = \"Call {.fun drive_auth} directly with all necessary specifics.\", \n .     i = \"See gargle's \\\"Non-interactive auth\\\" vignette for more details:\", \n .     i = \"{.url https://gargle.r-lib.org/articles/non-interactive-auth.html}\"))",
            "3. cli::cli_abort(message = message, ..., .envir = .envir)",
            "4. rlang::abort(message, ..., call = call, use_cli_format = TRUE, \n .     .frame = .frame)",
            "5. signal_abort(cnd, .file)"
          ]
        }
      ]
    }
  ]
}