{
  "cells": [
    {
      "cell_type": "markdown",
      "metadata": {
        "id": "view-in-github",
        "colab_type": "text"
      },
      "source": [
        "<a href=\"https://colab.research.google.com/github/30-na/COVID-19_community_transmission_infection_prevalence/blob/main/compute_rt_LCM_counties.ipynb\" target=\"_parent\"><img src=\"https://colab.research.google.com/assets/colab-badge.svg\" alt=\"Open In Colab\"/></a>"
      ]
    },
    {
      "cell_type": "code",
      "execution_count": null,
      "metadata": {
        "colab": {
          "base_uri": "https://localhost:8080/"
        },
        "id": "824Br9zGpTXB",
        "outputId": "780c8cf8-265f-4a10-a918-6a030dc4492b"
      },
      "outputs": [
        {
          "name": "stdout",
          "output_type": "stream",
          "text": [
            "Looking in indexes: https://pypi.org/simple, https://us-python.pkg.dev/colab-wheels/public/simple/\n",
            "Requirement already satisfied: rpy2==3.0.0 in /usr/local/lib/python3.9/dist-packages (3.0.0)\n",
            "Requirement already satisfied: cffi>=1.0.0 in /usr/local/lib/python3.9/dist-packages (from rpy2==3.0.0) (1.15.1)\n",
            "Requirement already satisfied: pytest in /usr/local/lib/python3.9/dist-packages (from rpy2==3.0.0) (7.2.2)\n",
            "Requirement already satisfied: jinja2 in /usr/local/lib/python3.9/dist-packages (from rpy2==3.0.0) (3.1.2)\n",
            "Requirement already satisfied: simplegeneric in /usr/local/lib/python3.9/dist-packages (from rpy2==3.0.0) (0.8.1)\n",
            "Requirement already satisfied: pycparser in /usr/local/lib/python3.9/dist-packages (from cffi>=1.0.0->rpy2==3.0.0) (2.21)\n",
            "Requirement already satisfied: MarkupSafe>=2.0 in /usr/local/lib/python3.9/dist-packages (from jinja2->rpy2==3.0.0) (2.1.2)\n",
            "Requirement already satisfied: iniconfig in /usr/local/lib/python3.9/dist-packages (from pytest->rpy2==3.0.0) (2.0.0)\n",
            "Requirement already satisfied: pluggy<2.0,>=0.12 in /usr/local/lib/python3.9/dist-packages (from pytest->rpy2==3.0.0) (1.0.0)\n",
            "Requirement already satisfied: tomli>=1.0.0 in /usr/local/lib/python3.9/dist-packages (from pytest->rpy2==3.0.0) (2.0.1)\n",
            "Requirement already satisfied: attrs>=19.2.0 in /usr/local/lib/python3.9/dist-packages (from pytest->rpy2==3.0.0) (22.2.0)\n",
            "Requirement already satisfied: packaging in /usr/local/lib/python3.9/dist-packages (from pytest->rpy2==3.0.0) (23.0)\n",
            "Requirement already satisfied: exceptiongroup>=1.0.0rc8 in /usr/local/lib/python3.9/dist-packages (from pytest->rpy2==3.0.0) (1.1.1)\n"
          ]
        },
        {
          "name": "stderr",
          "output_type": "stream",
          "text": [
            "/usr/local/lib/python3.9/dist-packages/rpy2/robjects/pandas2ri.py:15: FutureWarning: pandas.core.index is deprecated and will be removed in a future version. The public classes are available in the top-level namespace.\n",
            "  from pandas.core.index import Index as PandasIndex\n"
          ]
        }
      ],
      "source": [
        "# load rpy2\n",
        "# !pip install rpy2==3.0.0\n",
        "%load_ext rpy2.ipython\n",
        "\n"
      ]
    },
    {
      "cell_type": "code",
      "execution_count": null,
      "metadata": {
        "id": "R79WvixRpejA"
      },
      "outputs": [],
      "source": [
        "%%R\n",
        "if (!require(EpiNow2)) {\n",
        "  remotes::install_github(\"epiforecasts/EpiNow2\", dependencies = TRUE)\n",
        "}else {\n",
        "  print(\"EpiNow2 is allready installed\")\n",
        "}"
      ]
    },
    {
      "cell_type": "code",
      "execution_count": null,
      "metadata": {
        "colab": {
          "base_uri": "https://localhost:8080/",
          "height": 34
        },
        "id": "bUlppwJ39XaP",
        "outputId": "c4107128-9515-4019-805d-a317fd91d623"
      },
      "outputs": [
        {
          "data": {
            "text/plain": [
              "The repository doesn't exist. Cloning from https://github.com/30-na/COVID-19_community_transmission_infection_prevalence...\n"
            ]
          },
          "metadata": {},
          "output_type": "display_data"
        }
      ],
      "source": [
        "%%R\n",
        "getwd()\n",
        "# Connect to GitHub\n",
        "repo_url <- \"https://github.com/30-na/COVID-19_community_transmission_infection_prevalence\"\n",
        "dest_dir <- \"COVID-19_community_transmission_infection_prevalence\"\n",
        "\n",
        "# Set the working directory to the \"content\" folder\n",
        "setwd(\"/content\")\n",
        "\n",
        "if (file.exists(dest_dir)) {\n",
        "  cat(\"The repository already exists. Updating with git pull...\\n\")\n",
        "  setwd(dest_dir)\n",
        "  system(\"git pull\")\n",
        "} else {\n",
        "  cat(paste0(\"The repository doesn't exist. Cloning from \", repo_url, \"...\\n\"))\n",
        "  system(paste0(\"git clone \", repo_url, \" \", dest_dir))\n",
        "  setwd(dest_dir)\n",
        "}"
      ]
    },
    {
      "cell_type": "code",
      "execution_count": null,
      "metadata": {
        "colab": {
          "base_uri": "https://localhost:8080/"
        },
        "id": "KYGZVKPZ9oXK",
        "outputId": "545bd96f-52e4-4715-c957-375a51828cf8"
      },
      "outputs": [
        {
          "name": "stderr",
          "output_type": "stream",
          "text": [
            "WARNING:rpy2.rinterface_lib.callbacks:R[write to console]: \n",
            "Attaching package: ‘dplyr’\n",
            "\n",
            "\n",
            "WARNING:rpy2.rinterface_lib.callbacks:R[write to console]: The following objects are masked from ‘package:stats’:\n",
            "\n",
            "    filter, lag\n",
            "\n",
            "\n",
            "WARNING:rpy2.rinterface_lib.callbacks:R[write to console]: The following objects are masked from ‘package:base’:\n",
            "\n",
            "    intersect, setdiff, setequal, union\n",
            "\n",
            "\n",
            "WARNING:rpy2.rinterface_lib.callbacks:R[write to console]: \n",
            "Attaching package: ‘data.table’\n",
            "\n",
            "\n",
            "WARNING:rpy2.rinterface_lib.callbacks:R[write to console]: The following objects are masked from ‘package:dplyr’:\n",
            "\n",
            "    between, first, last\n",
            "\n",
            "\n"
          ]
        }
      ],
      "source": [
        "%%R\n",
        "getwd()\n",
        "# load library\n",
        "library(dplyr)\n",
        "library(EpiNow2)\n",
        "library(data.table)"
      ]
    },
    {
      "cell_type": "code",
      "execution_count": null,
      "metadata": {
        "colab": {
          "base_uri": "https://localhost:8080/",
          "height": 104
        },
        "id": "sgPUDusC91sF",
        "outputId": "1200bbf4-0a9e-4f74-9e55-d855f80b3671"
      },
      "outputs": [
        {
          "data": {
            "text/plain": [
              "[1] \"state\"                        \"fips_code\"                   \n",
              "[3] \"county_name\"                  \"date\"                        \n",
              "[5] \"confirm\"                      \"UR_code\"                     \n",
              "[7] \"UR_category\"                  \"community_transmission_level\"\n",
              "[9] \"state_fips\"                  \n"
            ]
          },
          "metadata": {},
          "output_type": "display_data"
        }
      ],
      "source": [
        "%%R\n",
        "# load NewCase data county level\n",
        "\n",
        "load(\"ColabData/counties.transmission.newCase.RDA\")\n",
        "head(counties.transmission.newCase)\n",
        "# 1. define Targets\n",
        "target.NCHS = \"Large central metro\"\n",
        "names(counties.transmission.newCase)\n",
        "# set number of cores to use fitting the model\n",
        "options(mc.cores = 4)\n",
        "# no benefit on runtime if cores > chains which is set to 4 by default\n",
        "\n",
        "# literature distributions \n",
        "generation_time <- get_generation_time(disease = \"SARS-CoV-2\", source = \"ganyani\", fixed = TRUE)\n",
        "incubation_period <- get_incubation_period(disease = \"SARS-CoV-2\", source = \"lauer\", fixed = TRUE)\n",
        "\n",
        "# define reporting delay as lognormal with mean of 4 days and sd of 1 day in absence of\n",
        "# evidence. If data on onset -> report then can use estimate_delay to estimate the delay\n",
        "reporting_delay <- list(mean = convert_to_logmean(4, 1),\n",
        "                        mean_sd = 0.1,\n",
        "                        sd = convert_to_logsd(4, 1),\n",
        "                        sd_sd = 0.1,\n",
        "                        max = 15)\n",
        "\n",
        "# filter list of Large Centeral Metro Counties\n",
        "LCM_counties = counties.transmission.newCase %>%\n",
        "filter(\n",
        "UR_category == target.NCHS\n",
        ") %>%\n",
        "  mutate(\n",
        "  state_fips = paste(state, fips_code, county_name, sep=\"_\")\n",
        "  )\n",
        "  names(LCM_counties)"
      ]
    },
    {
      "cell_type": "code",
      "execution_count": null,
      "metadata": {
        "colab": {
          "base_uri": "https://localhost:8080/"
        },
        "id": "frhUVamv_nd4",
        "outputId": "edb22217-4d3e-432b-802c-0aa4c74f532e"
      },
      "outputs": [
        {
          "name": "stdout",
          "output_type": "stream",
          "text": [
            "Drive already mounted at /content/drive; to attempt to forcibly remount, call drive.mount(\"/content/drive\", force_remount=True).\n"
          ]
        }
      ],
      "source": [
        "from google.colab import drive\n",
        "drive.mount('/content/drive')\n"
      ]
    },
    {
      "cell_type": "code",
      "execution_count": null,
      "metadata": {
        "colab": {
          "background_save": true,
          "base_uri": "https://localhost:8080/"
        },
        "id": "e6IrSqw3EetD",
        "outputId": "7f9827da-38d2-4e4b-f8db-f84486c70cd4"
      },
      "outputs": [
        {
          "metadata": {
            "tags": null
          },
          "name": "stderr",
          "output_type": "stream",
          "text": [
            "WARNING:rpy2.rinterface_lib.callbacks:R[write to console]: Logging threshold set at INFO for the EpiNow2 logger\n",
            "\n",
            "WARNING:rpy2.rinterface_lib.callbacks:R[write to console]: Writing EpiNow2 logs to the console and: /tmp/Rtmp7HZuxm/regional-epinow/2022-10-17.log\n",
            "\n",
            "WARNING:rpy2.rinterface_lib.callbacks:R[write to console]: Logging threshold set at INFO for the EpiNow2.epinow logger\n",
            "\n",
            "WARNING:rpy2.rinterface_lib.callbacks:R[write to console]: Writing EpiNow2.epinow logs to the console and: /tmp/Rtmp7HZuxm/epinow/2022-10-17.log\n",
            "\n",
            "WARNING:rpy2.rinterface_lib.callbacks:R[write to console]: Logging threshold set at INFO for the EpiNow2 logger\n",
            "\n",
            "WARNING:rpy2.rinterface_lib.callbacks:R[write to console]: Writing EpiNow2 logs to the console and: /tmp/Rtmp7HZuxm/regional-epinow/2022-10-17.log\n",
            "\n",
            "WARNING:rpy2.rinterface_lib.callbacks:R[write to console]: Logging threshold set at INFO for the EpiNow2.epinow logger\n",
            "\n",
            "WARNING:rpy2.rinterface_lib.callbacks:R[write to console]: Writing EpiNow2.epinow logs to the console and: /tmp/Rtmp7HZuxm/epinow/2022-10-17.log\n",
            "\n"
          ]
        }
      ],
      "source": [
        "%%R\n",
        "# list of target counties \n",
        "target.counties.list = unique(LCM_counties$state_fips)\n",
        "\n",
        "# initial dataframe\n",
        "#original.columns = c(\"date\", \"rt.mean\", \"county\")\n",
        "#LCM_counties_rt = data.frame(matrix(nrow = 0, ncol = length(original.columns)))   \n",
        "#colnames(LCM_counties_rt) = LCM_counties_rt\n",
        "\n",
        "\n",
        "for(i in 1:length(target.counties.list)){\n",
        "  # set target county\n",
        "  target.county = target.counties.list[i]\n",
        "  \n",
        "  # set confirm case for the target county\n",
        "  reported_cases = LCM_counties %>%\n",
        "  dplyr::filter(\n",
        "    state_fips == target.county\n",
        "  ) %>%\n",
        "  dplyr::select(\n",
        "    date,\n",
        "    confirm\n",
        "  )%>%\n",
        "  dplyr::arrange(\n",
        "    date\n",
        "    )\n",
        "    \n",
        "  # run epinow\n",
        "out <- epinow(reported_cases = reported_cases, \n",
        "              generation_time = generation_time,\n",
        "              delays = delay_opts(incubation_period, reporting_delay),\n",
        "              rt = rt_opts(prior = list(mean = 1.5, sd = 0.5)),\n",
        "              # here we define the quality of the gaussian process approximation\n",
        "              # if the fit to data appears poor try increasing basis_prop and\n",
        "              # potentially the boundary_scale (see ?gp_opts for details)\n",
        "              # though this will likely increase runtimes.\n",
        "              gp = gp_opts(basis_prop = 0.2),\n",
        "              # in some instances stan chains can get stuck when estimating in \n",
        "              # these instances consider using the future fitting mode by passing \n",
        "              # `future = TRUE, max_execution_time = 60 * 30` to stan_opts and calling \n",
        "              # `future::plan(\"multiprocess\")` prior to running epinow this will time out\n",
        "              # chains after 30 minutes but still return results from completed chains\n",
        "              stan = stan_opts(),\n",
        "              horizon = 14, \n",
        "              #target_folder = \"results\",\n",
        "              #logs = file.path(\"logs\", Sys.Date()),\n",
        "              #return_output = TRUE, \n",
        "              verbose = TRUE)\n",
        "\n",
        "# make a data frame\n",
        "r = (out[[\"estimates\"]][[\"summarised\"]]$variable) == \"R\"\n",
        "rt.mean = out[[\"estimates\"]][[\"summarised\"]]$mean[r]\n",
        "date = out[[\"estimates\"]][[\"summarised\"]]$date[r]\n",
        "\n",
        "rt.df = data.frame(\n",
        "  date = as.Date(date, \"%Y-%m-%d\"),\n",
        "  rt.mean = rt.mean,\n",
        "  county = target.counties.list[i]\n",
        ")\n",
        "\n",
        "# merged all data\n",
        "#LCM_counties_rt = rbind(\n",
        "#    LCM_counties_rt,\n",
        "#    rt.df\n",
        "#  )\n",
        "\n",
        "# save file to github\n",
        "save(rt.df, file = paste0(\"/content/drive/My Drive/ColabFiles/\", target.counties.list[i], \"_rt.rda\" ))\n",
        "}"
      ]
    }
  ],
  "metadata": {
    "colab": {
      "provenance": [],
      "authorship_tag": "ABX9TyPBfvgRFyNd8Udt6H4XHxm1",
      "include_colab_link": true
    },
    "kernelspec": {
      "display_name": "Python 3",
      "name": "python3"
    },
    "language_info": {
      "name": "python"
    }
  },
  "nbformat": 4,
  "nbformat_minor": 0
}