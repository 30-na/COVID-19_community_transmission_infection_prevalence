{
  "nbformat": 4,
  "nbformat_minor": 0,
  "metadata": {
    "colab": {
      "provenance": [],
      "authorship_tag": "ABX9TyPXonuZyxqFNOw8LkGBeMgP",
      "include_colab_link": true
    },
    "kernelspec": {
      "name": "python3",
      "display_name": "Python 3"
    },
    "language_info": {
      "name": "python"
    }
  },
  "cells": [
    {
      "cell_type": "markdown",
      "metadata": {
        "id": "view-in-github",
        "colab_type": "text"
      },
      "source": [
        "<a href=\"https://colab.research.google.com/github/30-na/COVID-19_community_transmission_infection_prevalence/blob/main/load_rt_large_centeral_metro_counties.ipynb\" target=\"_parent\"><img src=\"https://colab.research.google.com/assets/colab-badge.svg\" alt=\"Open In Colab\"/></a>"
      ]
    },
    {
      "cell_type": "code",
      "execution_count": null,
      "metadata": {
        "colab": {
          "base_uri": "https://localhost:8080/"
        },
        "id": "63GcfEvQrPwW",
        "outputId": "b819e58f-cfe8-4063-911f-d42292bdbdbc"
      },
      "outputs": [
        {
          "output_type": "stream",
          "name": "stdout",
          "text": [
            "The rpy2.ipython extension is already loaded. To reload it, use:\n",
            "  %reload_ext rpy2.ipython\n"
          ]
        }
      ],
      "source": [
        "%load_ext rpy2.ipython"
      ]
    },
    {
      "cell_type": "code",
      "source": [
        "%%R\n",
        "install.packages(\"dplyr\")\n"
      ],
      "metadata": {
        "id": "cYLf-4p53xVI"
      },
      "execution_count": null,
      "outputs": []
    },
    {
      "cell_type": "code",
      "source": [
        "%%R\n",
        "# load library\n",
        "library(dplyr)\n",
        "#library(EpiNow2)\n",
        "# library(data.table)"
      ],
      "metadata": {
        "id": "cgcSo5GhMoxq"
      },
      "execution_count": null,
      "outputs": []
    },
    {
      "cell_type": "code",
      "source": [
        "%%R\n",
        "\n",
        "remotes::install_github(\"epiforecasts/EpiNow2\", dependencies = TRUE)\n"
      ],
      "metadata": {
        "id": "JpisH69XsU-P"
      },
      "execution_count": null,
      "outputs": []
    },
    {
      "cell_type": "code",
      "source": [
        "%%R\n",
        "install.packages(\"EpiNow2\")\n"
      ],
      "metadata": {
        "id": "03qaRW9gwTjq"
      },
      "execution_count": null,
      "outputs": []
    },
    {
      "cell_type": "code",
      "source": [
        "%%R\n",
        "remotes::install_github(\"epiforecasts/EpiNow2\", dependencies = TRUE)\n"
      ],
      "metadata": {
        "id": "5McZaBQ0qAMK"
      },
      "execution_count": null,
      "outputs": []
    },
    {
      "cell_type": "code",
      "source": [
        "%%R \n",
        "install.packages(\"EpiNow2\", repos = \"https://epiforecasts.r-universe.dev\")\n"
      ],
      "metadata": {
        "id": "Ge8yYpzMrd1f"
      },
      "execution_count": null,
      "outputs": []
    },
    {
      "cell_type": "code",
      "source": [
        "target.NCHS = \"Large central metro\"\n",
        "\n",
        "# filter list of Large Centeral Metro Counties\n",
        "LCM_counties = county.NCHS %>%\n",
        "filter(UR_category == target.NCHS\n",
        ")"
      ],
      "metadata": {
        "id": "ZxhbOTcFor_y"
      },
      "execution_count": null,
      "outputs": []
    },
    {
      "cell_type": "code",
      "source": [
        "# load NewCase data county level\n",
        "%%R\n",
        "load(\"counties.transmission.newCase.RDA\")\n",
        "head(ccounties.transmission.newCase)\n"
      ],
      "metadata": {
        "id": "aggDlsi8r0jw"
      },
      "execution_count": null,
      "outputs": []
    },
    {
      "cell_type": "code",
      "source": [
        "# load new case from CDC\n",
        "%%R\n",
        "counties.transmission = data.table::fread(\"/content/Weekly_COVID-19_County_Level_of_Community_Transmission_Historical_Changes.csv\") \n",
        "counties.newCase = counties.communityLvl %>%\n",
        "dplyr::mutate(\n",
        "    confirm = covid_cases_per_100k/100000*county_population,\n",
        "    date = as.Date(date_updated, \"%Y-%m-%d\")\n",
        ")"
      ],
      "metadata": {
        "id": "Gp1gBlEmNxwP"
      },
      "execution_count": null,
      "outputs": []
    },
    {
      "cell_type": "code",
      "source": [
        "# merges new case and "
      ],
      "metadata": {
        "id": "N6D7crMDV_bP"
      },
      "execution_count": null,
      "outputs": []
    },
    {
      "cell_type": "code",
      "source": [
        "%%R\n",
        "head(counties.communityLvl)\n",
        "head(counties.newCase)"
      ],
      "metadata": {
        "id": "UMW_da_mQpun"
      },
      "execution_count": null,
      "outputs": []
    }
  ]
}